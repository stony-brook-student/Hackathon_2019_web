{
 "cells": [
  {
   "cell_type": "markdown",
   "metadata": {},
   "source": [
    "# Hack@CEWIT 2019"
   ]
  },
  {
   "cell_type": "code",
   "execution_count": 1,
   "metadata": {},
   "outputs": [
    {
     "name": "stderr",
     "output_type": "stream",
     "text": [
      "Using TensorFlow backend.\n"
     ]
    }
   ],
   "source": [
    "import keras\n",
    "import math\n",
    "import matplotlib.pyplot as plt\n",
    "import numpy as np\n",
    "import os\n",
    "import pandas as pd\n",
    "import seaborn as sns\n",
    "import sklearn.utils\n",
    "import tensorflow as tf\n",
    "from keras.callbacks import EarlyStopping, ModelCheckpoint\n",
    "from keras.layers import Conv2D, Activation, Dense, MaxPooling2D, Flatten, Dropout\n",
    "from keras.models import Sequential\n",
    "from keras.optimizers import SGD, Adam\n",
    "from keras.utils import np_utils\n",
    "from os import listdir\n",
    "from os.path import isfile, join\n",
    "from PIL import Image\n",
    "from sklearn.metrics import classification_report,confusion_matrix, accuracy_score"
   ]
  },
  {
   "cell_type": "markdown",
   "metadata": {},
   "source": [
    "### Get file names"
   ]
  },
  {
   "cell_type": "code",
   "execution_count": 2,
   "metadata": {},
   "outputs": [
    {
     "name": "stdout",
     "output_type": "stream",
     "text": [
      "5415 parasitized records\n",
      "5924 uninfected records\n"
     ]
    }
   ],
   "source": [
    "# 路径前缀\n",
    "path_parasitized, path_uninfected = './cell_images/final_p/', './cell_images/final_u/'\n",
    "# 包含文件名的list\n",
    "files_parasitized = [f for f in listdir(path_parasitized) if isfile(join(path_parasitized, f))]\n",
    "files_uninfected = [f for f in listdir(path_uninfected) if isfile(join(path_uninfected, f))]\n",
    "if '.DS_Store' in files_parasitized:\n",
    "    files_parasitized.remove('.DS_Store')\n",
    "if '.DS_Store' in files_uninfected:\n",
    "    files_uninfected.remove('.DS_Store')\n",
    "print(len(files_parasitized), ' parasitized records\\n', len(files_uninfected), ' uninfected records', sep='')"
   ]
  },
  {
   "cell_type": "markdown",
   "metadata": {},
   "source": [
    "### Load all image file to DataFrame"
   ]
  },
  {
   "cell_type": "code",
   "execution_count": 3,
   "metadata": {},
   "outputs": [],
   "source": [
    "def loadData(prefix, names, classification):\n",
    "    pixels = []\n",
    "    for i in range(len(names)):\n",
    "        im = Image.open(prefix + names[i])#.convert('L')\n",
    "        pix = np.asarray(im)\n",
    "        pixels.append(pix)\n",
    "    df_temp = pd.DataFrame({'Name': names, 'Image': pixels})\n",
    "    df_temp['Classification'] = classification\n",
    "    return df_temp\n",
    "\n",
    "df_parasitize = loadData(path_parasitized, files_parasitized, 1)\n",
    "df_uninfected = loadData(path_uninfected, files_uninfected, 0)"
   ]
  },
  {
   "cell_type": "code",
   "execution_count": 4,
   "metadata": {},
   "outputs": [],
   "source": [
    "data = pd.concat([df_parasitize, df_uninfected])\n",
    "data = sklearn.utils.shuffle(data)\n",
    "data = data.reset_index(drop=True)"
   ]
  },
  {
   "cell_type": "code",
   "execution_count": 5,
   "metadata": {},
   "outputs": [
    {
     "data": {
      "text/html": [
       "<div>\n",
       "<style scoped>\n",
       "    .dataframe tbody tr th:only-of-type {\n",
       "        vertical-align: middle;\n",
       "    }\n",
       "\n",
       "    .dataframe tbody tr th {\n",
       "        vertical-align: top;\n",
       "    }\n",
       "\n",
       "    .dataframe thead th {\n",
       "        text-align: right;\n",
       "    }\n",
       "</style>\n",
       "<table border=\"1\" class=\"dataframe\">\n",
       "  <thead>\n",
       "    <tr style=\"text-align: right;\">\n",
       "      <th></th>\n",
       "      <th>Name</th>\n",
       "      <th>Image</th>\n",
       "      <th>Classification</th>\n",
       "    </tr>\n",
       "  </thead>\n",
       "  <tbody>\n",
       "    <tr>\n",
       "      <th>0</th>\n",
       "      <td>4633.png</td>\n",
       "      <td>[[[0, 0, 0], [0, 0, 0], [0, 0, 0], [0, 0, 0], ...</td>\n",
       "      <td>0</td>\n",
       "    </tr>\n",
       "    <tr>\n",
       "      <th>1</th>\n",
       "      <td>3939.png</td>\n",
       "      <td>[[[0, 0, 0], [0, 0, 0], [0, 0, 0], [0, 0, 0], ...</td>\n",
       "      <td>0</td>\n",
       "    </tr>\n",
       "    <tr>\n",
       "      <th>2</th>\n",
       "      <td>3284.png</td>\n",
       "      <td>[[[0, 0, 0], [0, 0, 0], [0, 0, 0], [0, 0, 0], ...</td>\n",
       "      <td>1</td>\n",
       "    </tr>\n",
       "    <tr>\n",
       "      <th>3</th>\n",
       "      <td>2584.png</td>\n",
       "      <td>[[[0, 0, 0], [0, 0, 0], [0, 0, 0], [0, 0, 0], ...</td>\n",
       "      <td>0</td>\n",
       "    </tr>\n",
       "    <tr>\n",
       "      <th>4</th>\n",
       "      <td>4639.png</td>\n",
       "      <td>[[[0, 0, 0], [0, 0, 0], [0, 0, 0], [0, 0, 0], ...</td>\n",
       "      <td>0</td>\n",
       "    </tr>\n",
       "  </tbody>\n",
       "</table>\n",
       "</div>"
      ],
      "text/plain": [
       "       Name                                              Image  Classification\n",
       "0  4633.png  [[[0, 0, 0], [0, 0, 0], [0, 0, 0], [0, 0, 0], ...               0\n",
       "1  3939.png  [[[0, 0, 0], [0, 0, 0], [0, 0, 0], [0, 0, 0], ...               0\n",
       "2  3284.png  [[[0, 0, 0], [0, 0, 0], [0, 0, 0], [0, 0, 0], ...               1\n",
       "3  2584.png  [[[0, 0, 0], [0, 0, 0], [0, 0, 0], [0, 0, 0], ...               0\n",
       "4  4639.png  [[[0, 0, 0], [0, 0, 0], [0, 0, 0], [0, 0, 0], ...               0"
      ]
     },
     "execution_count": 5,
     "metadata": {},
     "output_type": "execute_result"
    }
   ],
   "source": [
    "data.head(5)"
   ]
  },
  {
   "cell_type": "code",
   "execution_count": 6,
   "metadata": {},
   "outputs": [
    {
     "data": {
      "image/png": "[encoded data removed]",
      "text/plain": [
       "<Figure size 432x288 with 1 Axes>"
      ]
     },
     "metadata": {},
     "output_type": "display_data"
    }
   ],
   "source": [
    "fig = plt.figure()\n",
    "plt.imshow(data.Image.values[1], cmap='gray', interpolation='none')\n",
    "plt.xticks([]); plt.yticks([])\n",
    "plt.show()"
   ]
  },
  {
   "cell_type": "markdown",
   "metadata": {},
   "source": [
    "---"
   ]
  },
  {
   "cell_type": "code",
   "execution_count": 7,
   "metadata": {},
   "outputs": [
    {
     "name": "stdout",
     "output_type": "stream",
     "text": [
      "default_img_size: 150\n",
      "total_data: 11339\n"
     ]
    }
   ],
   "source": [
    "default_img_size, total_data = 150, data.shape[0]\n",
    "print('default_img_size: ', default_img_size, '\\ntotal_data: ', total_data, sep='')"
   ]
  },
  {
   "cell_type": "markdown",
   "metadata": {},
   "source": [
    "#### Split Data Into Train And Test"
   ]
  },
  {
   "cell_type": "code",
   "execution_count": 8,
   "metadata": {},
   "outputs": [],
   "source": [
    "epochs, train_percentage = 10, 0.75\n",
    "num_train_data = int(total_data * train_percentage)\n",
    "num_test_data = total_data - num_train_data"
   ]
  },
  {
   "cell_type": "code",
   "execution_count": 9,
   "metadata": {},
   "outputs": [
    {
     "name": "stdout",
     "output_type": "stream",
     "text": [
      "(8504,)\n",
      "(8504,)\n",
      "(2835,)\n",
      "(2835,)\n"
     ]
    }
   ],
   "source": [
    "data_train, data_test = data[:num_train_data], data[num_train_data:]\n",
    "X_train, y_train = data_train.Image.values, data_train.Classification.values\n",
    "X_test, y_test = data_test.Image.values, data_test.Classification.values\n",
    "\n",
    "print(X_train.shape, y_train.shape, X_test.shape, y_test.shape, sep='\\n')"
   ]
  },
  {
   "cell_type": "markdown",
   "metadata": {},
   "source": [
    "### Resize Image"
   ]
  },
  {
   "cell_type": "code",
   "execution_count": 10,
   "metadata": {},
   "outputs": [
    {
     "name": "stdout",
     "output_type": "stream",
     "text": [
      "(8504, 150, 150, 3)\n",
      "(2835, 150, 150, 3)\n",
      "(8504, 150, 150, 3)\n",
      "(2835, 150, 150, 3)\n"
     ]
    }
   ],
   "source": [
    "def resize(original):\n",
    "    length = len(original)\n",
    "    pixels = np.zeros((length, default_img_size, default_img_size, 3), dtype=np.uint8)\n",
    "    for i in range(length):\n",
    "        pix = original[i]\n",
    "        j, k, l = pix.shape\n",
    "        resized = np.zeros((default_img_size, default_img_size, 3))\n",
    "        resized[:j, :k, :l] = pix\n",
    "        pixels[i] = resized\n",
    "    return pixels\n",
    "\n",
    "X_train = resize(X_train)\n",
    "X_test = resize(X_test)\n",
    "print(X_train.shape, X_test.shape, sep='\\n')"
   ]
  },
  {
   "cell_type": "markdown",
   "metadata": {},
   "source": [
    "### Build Model"
   ]
  },
  {
   "cell_type": "code",
   "execution_count": 11,
   "metadata": {},
   "outputs": [],
   "source": [
    "y_train = y_train.astype(np.uint8)\n",
    "y_test = y_test.astype(np.uint8)"
   ]
  },
  {
   "cell_type": "code",
   "execution_count": 12,
   "metadata": {},
   "outputs": [
    {
     "name": "stdout",
     "output_type": "stream",
     "text": [
      "Shape before one-hot encoding:  (8504,) (2835,)\n",
      "Shape after one-hot encoding:  (8504, 2) (2835, 2)\n"
     ]
    }
   ],
   "source": [
    "print(\"Shape before one-hot encoding: \", y_train.shape, y_test.shape)\n",
    "y_train = np_utils.to_categorical(y_train, 2)\n",
    "y_test = np_utils.to_categorical(y_test, 2)\n",
    "print(\"Shape after one-hot encoding: \", y_train.shape, y_test.shape)"
   ]
  },
  {
   "cell_type": "markdown",
   "metadata": {},
   "source": [
    "# Machine Learning"
   ]
  },
  {
   "cell_type": "code",
   "execution_count": 13,
   "metadata": {},
   "outputs": [],
   "source": []
  },
  {
   "cell_type": "code",
   "execution_count": 14,
   "metadata": {},
   "outputs": [],
   "source": [
    "batch_size = 1\n",
    "epoch = 1"
   ]
  },
  {
   "cell_type": "code",
   "execution_count": 15,
   "metadata": {},
   "outputs": [
    {
     "name": "stdout",
     "output_type": "stream",
     "text": [
      "WARNING:tensorflow:From /Users/sherwenhuang/anaconda3/lib/python3.7/site-packages/tensorflow/python/framework/op_def_library.py:263: colocate_with (from tensorflow.python.framework.ops) is deprecated and will be removed in a future version.\n",
      "Instructions for updating:\n",
      "Colocations handled automatically by placer.\n",
      "WARNING:tensorflow:From /Users/sherwenhuang/anaconda3/lib/python3.7/site-packages/keras/backend/tensorflow_backend.py:3445: calling dropout (from tensorflow.python.ops.nn_ops) with keep_prob is deprecated and will be removed in a future version.\n",
      "Instructions for updating:\n",
      "Please use `rate` instead of `keep_prob`. Rate should be set to `rate = 1 - keep_prob`.\n"
     ]
    }
   ],
   "source": [
    "model = Sequential([\n",
    "    Conv2D(32, (5, 5), input_shape=(default_img_size,default_img_size, 3), activation='relu'),\n",
    "    MaxPooling2D(pool_size=(3, 3)),\n",
    "    Conv2D(32, (5, 5), activation='relu'),\n",
    "    MaxPooling2D(pool_size=(3, 3)),\n",
    "    Conv2D(64, (5, 5), activation='relu'),\n",
    "    MaxPooling2D(pool_size=(3, 3)),\n",
    "    Flatten(),\n",
    "    Dense(128, activation='relu'),\n",
    "    Dropout(0.45),\n",
    "    Dense(2, activation='softmax')\n",
    "])"
   ]
  },
  {
   "cell_type": "code",
   "execution_count": 16,
   "metadata": {},
   "outputs": [
    {
     "name": "stdout",
     "output_type": "stream",
     "text": [
      "Loaded\n"
     ]
    }
   ],
   "source": [
    "opt = Adam(lr=1e-5, decay=1e-5 / epoch)\n",
    "model.compile(optimizer=opt,\n",
    "              loss='categorical_crossentropy',\n",
    "              metrics=['accuracy'])\n",
    "\n",
    "bestAcc = -1\n",
    "\n",
    "best_path, load_old_model = 'bestmodel1.h5', True\n",
    "if os.path.exists(best_path) and load_old_model:\n",
    "    model.load_weights(best_path)\n",
    "    print('Loaded')"
   ]
  },
  {
   "cell_type": "code",
   "execution_count": 18,
   "metadata": {
    "scrolled": false
   },
   "outputs": [
    {
     "name": "stdout",
     "output_type": "stream",
     "text": [
      "Epoch: 0\n",
      "Epoch 1/1\n",
      "8504/8504 [==============================] - 261s 31ms/step - loss: 0.1641 - acc: 0.9447\n"
     ]
    },
    {
     "data": {
      "image/png": "[encoded data removed]",
      "text/plain": [
       "<Figure size 432x288 with 2 Axes>"
      ]
     },
     "metadata": {
      "needs_background": "light"
     },
     "output_type": "display_data"
    },
    {
     "name": "stdout",
     "output_type": "stream",
     "text": [
      "Test Accuracy: 0.9506172839506173\n",
      "Epoch: 1\n",
      "Epoch 1/1\n",
      "8504/8504 [==============================] - 268s 32ms/step - loss: 0.1360 - acc: 0.9506\n"
     ]
    },
    {
     "data": {
      "image/png": "[encoded data removed]",
      "text/plain": [
       "<Figure size 432x288 with 2 Axes>"
      ]
     },
     "metadata": {
      "needs_background": "light"
     },
     "output_type": "display_data"
    },
    {
     "name": "stdout",
     "output_type": "stream",
     "text": [
      "Test Accuracy: 0.9485008818342152\n",
      "Epoch: 2\n",
      "Epoch 1/1\n",
      "8504/8504 [==============================] - 236s 28ms/step - loss: 0.1281 - acc: 0.9547\n"
     ]
    },
    {
     "data": {
      "image/png": "[encoded data removed]",
      "text/plain": [
       "<Figure size 432x288 with 2 Axes>"
      ]
     },
     "metadata": {
      "needs_background": "light"
     },
     "output_type": "display_data"
    },
    {
     "name": "stdout",
     "output_type": "stream",
     "text": [
      "Test Accuracy: 0.9523809523809523\n",
      "Epoch: 3\n",
      "Epoch 1/1\n",
      "8504/8504 [==============================] - 263s 31ms/step - loss: 0.1110 - acc: 0.9618\n"
     ]
    },
    {
     "data": {
      "image/png": "[encoded data removed]",
      "text/plain": [
       "<Figure size 432x288 with 2 Axes>"
      ]
     },
     "metadata": {
      "needs_background": "light"
     },
     "output_type": "display_data"
    },
    {
     "name": "stdout",
     "output_type": "stream",
     "text": [
      "Test Accuracy: 0.9502645502645503\n",
      "Epoch: 4\n",
      "Epoch 1/1\n",
      "8504/8504 [==============================] - 259s 30ms/step - loss: 0.1061 - acc: 0.9645\n"
     ]
    },
    {
     "data": {
      "image/png": "[encoded data removed]",
      "text/plain": [
       "<Figure size 432x288 with 2 Axes>"
      ]
     },
     "metadata": {
      "needs_background": "light"
     },
     "output_type": "display_data"
    },
    {
     "name": "stdout",
     "output_type": "stream",
     "text": [
      "Test Accuracy: 0.9576719576719577\n",
      "Epoch: 5\n",
      "Epoch 1/1\n",
      "8504/8504 [==============================] - 270s 32ms/step - loss: 0.1007 - acc: 0.9659\n"
     ]
    },
    {
     "data": {
      "image/png": "[encoded data removed]",
      "text/plain": [
       "<Figure size 432x288 with 2 Axes>"
      ]
     },
     "metadata": {
      "needs_background": "light"
     },
     "output_type": "display_data"
    },
    {
     "name": "stdout",
     "output_type": "stream",
     "text": [
      "Test Accuracy: 0.9509700176366843\n",
      "Epoch: 6\n",
      "Epoch 1/1\n",
      "8504/8504 [==============================] - 275s 32ms/step - loss: 0.0948 - acc: 0.9675\n"
     ]
    },
    {
     "data": {
      "image/png": "[encoded data removed]",
      "text/plain": [
       "<Figure size 432x288 with 2 Axes>"
      ]
     },
     "metadata": {
      "needs_background": "light"
     },
     "output_type": "display_data"
    },
    {
     "name": "stdout",
     "output_type": "stream",
     "text": [
      "Test Accuracy: 0.9562610229276896\n",
      "Epoch: 7\n",
      "Epoch 1/1\n",
      "8504/8504 [==============================] - 261s 31ms/step - loss: 0.0855 - acc: 0.9715\n"
     ]
    },
    {
     "data": {
      "image/png": "[encoded data removed]",
      "text/plain": [
       "<Figure size 432x288 with 2 Axes>"
      ]
     },
     "metadata": {
      "needs_background": "light"
     },
     "output_type": "display_data"
    },
    {
     "name": "stdout",
     "output_type": "stream",
     "text": [
      "Test Accuracy: 0.9580246913580247\n",
      "Epoch: 8\n",
      "Epoch 1/1\n",
      "8504/8504 [==============================] - 239s 28ms/step - loss: 0.0804 - acc: 0.9741\n"
     ]
    },
    {
     "data": {
      "image/png": "[encoded data removed]",
      "text/plain": [
       "<Figure size 432x288 with 2 Axes>"
      ]
     },
     "metadata": {
      "needs_background": "light"
     },
     "output_type": "display_data"
    },
    {
     "name": "stdout",
     "output_type": "stream",
     "text": [
      "Test Accuracy: 0.9611992945326279\n",
      "Epoch: 9\n",
      "Epoch 1/1\n",
      "8504/8504 [==============================] - 272s 32ms/step - loss: 0.0763 - acc: 0.9740\n"
     ]
    },
    {
     "data": {
      "image/png": "[encoded data removed]",
      "text/plain": [
       "<Figure size 432x288 with 2 Axes>"
      ]
     },
     "metadata": {
      "needs_background": "light"
     },
     "output_type": "display_data"
    },
    {
     "name": "stdout",
     "output_type": "stream",
     "text": [
      "Test Accuracy: 0.9629629629629629\n"
     ]
    }
   ],
   "source": [
    "save_path = 'bestmodel2.h5'\n",
    "\n",
    "for i in range(10):\n",
    "    print('Epoch:', i)\n",
    "    hist = model.fit(X_train, y_train, batch_size=batch_size, epochs=1, verbose=1, shuffle=True)\n",
    "    model_predicted = model.predict(X_test)\n",
    "    cm = confusion_matrix(y_test.argmax(axis=1), model_predicted.argmax(axis=1))\n",
    "    sns.heatmap(cm, annot=True, fmt=\"d\")\n",
    "    plt.show()\n",
    "    acc = (cm[0][0] + cm[1][1]) / num_test_data\n",
    "    print('Test Accuracy:', acc)\n",
    "    if bestAcc < acc:\n",
    "        model.save_weights(save_path)"
   ]
  },
  {
   "cell_type": "code",
   "execution_count": null,
   "metadata": {},
   "outputs": [],
   "source": []
  },
  {
   "cell_type": "code",
   "execution_count": null,
   "metadata": {},
   "outputs": [],
   "source": []
  },
  {
   "cell_type": "code",
   "execution_count": null,
   "metadata": {},
   "outputs": [],
   "source": []
  },
  {
   "cell_type": "code",
   "execution_count": null,
   "metadata": {},
   "outputs": [],
   "source": []
  },
  {
   "cell_type": "code",
   "execution_count": null,
   "metadata": {},
   "outputs": [],
   "source": []
  },
  {
   "cell_type": "code",
   "execution_count": null,
   "metadata": {},
   "outputs": [],
   "source": []
  },
  {
   "cell_type": "code",
   "execution_count": null,
   "metadata": {},
   "outputs": [],
   "source": []
  }
 ],
 "metadata": {
  "kernelspec": {
   "display_name": "Python 3",
   "language": "python",
   "name": "python3"
  },
  "language_info": {
   "codemirror_mode": {
    "name": "ipython",
    "version": 3
   },
   "file_extension": ".py",
   "mimetype": "text/x-python",
   "name": "python",
   "nbconvert_exporter": "python",
   "pygments_lexer": "ipython3",
   "version": "3.6.7"
  }
 },
 "nbformat": 4,
 "nbformat_minor": 2
}
